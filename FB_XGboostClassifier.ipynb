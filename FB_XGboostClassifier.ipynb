{
 "cells": [
  {
   "cell_type": "code",
   "execution_count": 1,
   "id": "73a9fcca",
   "metadata": {},
   "outputs": [],
   "source": [
    "#Importing Libraries \n",
    "import warnings\n",
    "warnings.filterwarnings(\"ignore\")\n",
    "\n",
    "import csv\n",
    "import pandas as pd#pandas to create small dataframes \n",
    "import datetime #Convert to unix time\n",
    "import time #Convert to unix time\n",
    "# if numpy is not installed already : pip3 install numpy\n",
    "import numpy as np#Do aritmetic operations on arrays\n",
    "# matplotlib: used to plot graphs\n",
    "import matplotlib\n",
    "import matplotlib.pylab as plt\n",
    "import seaborn as sns#Plots\n",
    "from matplotlib import rcParams#Size of plots  \n",
    "from sklearn.cluster import MiniBatchKMeans, KMeans#Clustering\n",
    "import math\n",
    "import pickle\n",
    "import os\n",
    "# to install xgboost: pip3 install xgboost\n",
    "import xgboost as xgb\n",
    "\n",
    "import warnings\n",
    "import networkx as nx\n",
    "import pdb\n",
    "import pickle\n",
    "from pandas import HDFStore,DataFrame\n",
    "from pandas import read_hdf\n",
    "from scipy.sparse.linalg import svds, eigs\n",
    "import gc\n",
    "from tqdm import tqdm\n",
    "from sklearn.ensemble import RandomForestClassifier\n",
    "from sklearn.metrics import f1_score"
   ]
  },
  {
   "cell_type": "code",
   "execution_count": 2,
   "id": "6e70ecd7",
   "metadata": {},
   "outputs": [
    {
     "name": "stderr",
     "output_type": "stream",
     "text": [
      "'wget' is not recognized as an internal or external command,\n",
      "operable program or batch file.\n"
     ]
    }
   ],
   "source": [
    "!wget --header=\"Host: doc-0o-bk-docs.googleusercontent.com\" --header=\"User-Agent: Mozilla/5.0 (Windows NT 10.0; Win64; x64) AppleWebKit/537.36 (KHTML, like Gecko) Chrome/90.0.4430.212 Safari/537.36\" --header=\"Accept: text/html,application/xhtml+xml,application/xml;q=0.9,image/avif,image/webp,image/apng,*/*;q=0.8,application/signed-exchange;v=b3;q=0.9\" --header=\"Accept-Language: en-US,en;q=0.9\" --header=\"Cookie: AUTH_nso6dcn1mbidkt5qr539a2jiefc09pqv_nonce=iak2ig7rpq664\" --header=\"Connection: keep-alive\" \"https://doc-0o-bk-docs.googleusercontent.com/docs/securesc/nss2f5s2soorprev6d4t4qp3n5ekp9nh/evl2j2j4t5hronicnhsbdlsblnbl9qk3/1622116650000/06629147635963609455/13017565264516993811/1fDJptlCFEWNV5UNGPc4geTykgFI3PDCV?e=download&authuser=0&nonce=iak2ig7rpq664&user=13017565264516993811&hash=fvl5s6dohfnqle6k8q3koe9jr2mhe6jr\" -c -O 'storage_sample_stage4.h5'"
   ]
  },
  {
   "cell_type": "code",
   "execution_count": 3,
   "id": "a0e71d1f",
   "metadata": {},
   "outputs": [],
   "source": [
    "#reading\n",
    "from pandas import read_hdf\n",
    "df_final_train = read_hdf('final_features.h5', 'train_df',mode='r')\n",
    "df_final_test = read_hdf('final_features.h5', 'test_df',mode='r')"
   ]
  },
  {
   "cell_type": "code",
   "execution_count": 4,
   "id": "94d2c5ba",
   "metadata": {},
   "outputs": [
    {
     "data": {
      "text/plain": [
       "Index(['source_node', 'destination_node', 'indicator_link',\n",
       "       'jaccard_followers', 'jaccard_followees', 'cosine_followers',\n",
       "       'cosine_followees', 'num_followers_s', 'num_followees_s',\n",
       "       'num_followees_d', 'inter_followers', 'inter_followees', 'adar_index',\n",
       "       'follows_back', 'same_comp', 'shortest_path', 'weight_in', 'weight_out',\n",
       "       'weight_f1', 'weight_f2', 'weight_f3', 'weight_f4', 'page_rank_s',\n",
       "       'page_rank_d', 'katz_s', 'katz_d', 'hubs_s', 'hubs_d', 'authorities_s',\n",
       "       'authorities_d', 'svd_u_s_1', 'svd_u_s_2', 'svd_u_s_3', 'svd_u_s_4',\n",
       "       'svd_u_s_5', 'svd_u_s_6', 'svd_u_d_1', 'svd_u_d_2', 'svd_u_d_3',\n",
       "       'svd_u_d_4', 'svd_u_d_5', 'svd_u_d_6', 'svd_v_s_1', 'svd_v_s_2',\n",
       "       'svd_v_s_3', 'svd_v_s_4', 'svd_v_s_5', 'svd_v_s_6', 'svd_v_d_1',\n",
       "       'svd_v_d_2', 'svd_v_d_3', 'svd_v_d_4', 'svd_v_d_5', 'svd_v_d_6',\n",
       "       'svd_dot_u', 'pre_att_followers', 'pre_att_followees', 'svd_dot_v'],\n",
       "      dtype='object')"
      ]
     },
     "execution_count": 4,
     "metadata": {},
     "output_type": "execute_result"
    }
   ],
   "source": [
    "df_final_train.columns"
   ]
  },
  {
   "cell_type": "code",
   "execution_count": 5,
   "id": "cc53dc58",
   "metadata": {},
   "outputs": [
    {
     "data": {
      "text/html": [
       "<div>\n",
       "<style scoped>\n",
       "    .dataframe tbody tr th:only-of-type {\n",
       "        vertical-align: middle;\n",
       "    }\n",
       "\n",
       "    .dataframe tbody tr th {\n",
       "        vertical-align: top;\n",
       "    }\n",
       "\n",
       "    .dataframe thead th {\n",
       "        text-align: right;\n",
       "    }\n",
       "</style>\n",
       "<table border=\"1\" class=\"dataframe\">\n",
       "  <thead>\n",
       "    <tr style=\"text-align: right;\">\n",
       "      <th></th>\n",
       "      <th>source_node</th>\n",
       "      <th>destination_node</th>\n",
       "      <th>indicator_link</th>\n",
       "      <th>jaccard_followers</th>\n",
       "      <th>jaccard_followees</th>\n",
       "      <th>cosine_followers</th>\n",
       "      <th>cosine_followees</th>\n",
       "      <th>num_followers_s</th>\n",
       "      <th>num_followees_s</th>\n",
       "      <th>num_followees_d</th>\n",
       "      <th>...</th>\n",
       "      <th>svd_v_d_1</th>\n",
       "      <th>svd_v_d_2</th>\n",
       "      <th>svd_v_d_3</th>\n",
       "      <th>svd_v_d_4</th>\n",
       "      <th>svd_v_d_5</th>\n",
       "      <th>svd_v_d_6</th>\n",
       "      <th>svd_dot_u</th>\n",
       "      <th>pre_att_followers</th>\n",
       "      <th>pre_att_followees</th>\n",
       "      <th>svd_dot_v</th>\n",
       "    </tr>\n",
       "  </thead>\n",
       "  <tbody>\n",
       "    <tr>\n",
       "      <th>0</th>\n",
       "      <td>273084</td>\n",
       "      <td>1505602</td>\n",
       "      <td>1</td>\n",
       "      <td>0</td>\n",
       "      <td>0.000000</td>\n",
       "      <td>0.000000</td>\n",
       "      <td>0.000000</td>\n",
       "      <td>6</td>\n",
       "      <td>15</td>\n",
       "      <td>8</td>\n",
       "      <td>...</td>\n",
       "      <td>-1.355368e-12</td>\n",
       "      <td>4.675244e-13</td>\n",
       "      <td>1.128586e-06</td>\n",
       "      <td>6.616651e-14</td>\n",
       "      <td>9.771075e-13</td>\n",
       "      <td>4.160011e-14</td>\n",
       "      <td>1.114847e-11</td>\n",
       "      <td>0</td>\n",
       "      <td>0</td>\n",
       "      <td>2.238769e-12</td>\n",
       "    </tr>\n",
       "    <tr>\n",
       "      <th>1</th>\n",
       "      <td>832016</td>\n",
       "      <td>1543415</td>\n",
       "      <td>1</td>\n",
       "      <td>0</td>\n",
       "      <td>0.187135</td>\n",
       "      <td>0.028382</td>\n",
       "      <td>0.343828</td>\n",
       "      <td>94</td>\n",
       "      <td>61</td>\n",
       "      <td>142</td>\n",
       "      <td>...</td>\n",
       "      <td>1.244974e-12</td>\n",
       "      <td>-1.636948e-10</td>\n",
       "      <td>-3.112787e-10</td>\n",
       "      <td>6.738902e-02</td>\n",
       "      <td>2.607836e-11</td>\n",
       "      <td>2.372900e-09</td>\n",
       "      <td>3.192812e-03</td>\n",
       "      <td>0</td>\n",
       "      <td>0</td>\n",
       "      <td>9.068719e-04</td>\n",
       "    </tr>\n",
       "    <tr>\n",
       "      <th>2</th>\n",
       "      <td>1325247</td>\n",
       "      <td>760242</td>\n",
       "      <td>1</td>\n",
       "      <td>0</td>\n",
       "      <td>0.369565</td>\n",
       "      <td>0.156957</td>\n",
       "      <td>0.566038</td>\n",
       "      <td>28</td>\n",
       "      <td>41</td>\n",
       "      <td>22</td>\n",
       "      <td>...</td>\n",
       "      <td>-5.168530e-18</td>\n",
       "      <td>-7.196353e-18</td>\n",
       "      <td>-1.020720e-17</td>\n",
       "      <td>1.512531e-17</td>\n",
       "      <td>7.660428e-18</td>\n",
       "      <td>-8.195645e-19</td>\n",
       "      <td>4.001379e-33</td>\n",
       "      <td>0</td>\n",
       "      <td>0</td>\n",
       "      <td>5.753505e-34</td>\n",
       "    </tr>\n",
       "    <tr>\n",
       "      <th>3</th>\n",
       "      <td>1368400</td>\n",
       "      <td>1006992</td>\n",
       "      <td>1</td>\n",
       "      <td>0</td>\n",
       "      <td>0.000000</td>\n",
       "      <td>0.000000</td>\n",
       "      <td>0.000000</td>\n",
       "      <td>11</td>\n",
       "      <td>5</td>\n",
       "      <td>7</td>\n",
       "      <td>...</td>\n",
       "      <td>-9.818087e-10</td>\n",
       "      <td>3.454679e-11</td>\n",
       "      <td>5.213566e-08</td>\n",
       "      <td>9.595758e-13</td>\n",
       "      <td>3.047045e-10</td>\n",
       "      <td>1.246586e-13</td>\n",
       "      <td>4.710299e-20</td>\n",
       "      <td>0</td>\n",
       "      <td>0</td>\n",
       "      <td>3.159464e-18</td>\n",
       "    </tr>\n",
       "    <tr>\n",
       "      <th>4</th>\n",
       "      <td>140165</td>\n",
       "      <td>1708748</td>\n",
       "      <td>1</td>\n",
       "      <td>0</td>\n",
       "      <td>0.000000</td>\n",
       "      <td>0.000000</td>\n",
       "      <td>0.000000</td>\n",
       "      <td>1</td>\n",
       "      <td>11</td>\n",
       "      <td>3</td>\n",
       "      <td>...</td>\n",
       "      <td>-3.453513e-15</td>\n",
       "      <td>1.121296e-15</td>\n",
       "      <td>3.097683e-09</td>\n",
       "      <td>8.173276e-16</td>\n",
       "      <td>1.122948e-15</td>\n",
       "      <td>5.095796e-17</td>\n",
       "      <td>7.775076e-14</td>\n",
       "      <td>0</td>\n",
       "      <td>0</td>\n",
       "      <td>3.708786e-16</td>\n",
       "    </tr>\n",
       "  </tbody>\n",
       "</table>\n",
       "<p>5 rows × 58 columns</p>\n",
       "</div>"
      ],
      "text/plain": [
       "   source_node  destination_node  indicator_link  jaccard_followers  \\\n",
       "0       273084           1505602               1                  0   \n",
       "1       832016           1543415               1                  0   \n",
       "2      1325247            760242               1                  0   \n",
       "3      1368400           1006992               1                  0   \n",
       "4       140165           1708748               1                  0   \n",
       "\n",
       "   jaccard_followees  cosine_followers  cosine_followees  num_followers_s  \\\n",
       "0           0.000000          0.000000          0.000000                6   \n",
       "1           0.187135          0.028382          0.343828               94   \n",
       "2           0.369565          0.156957          0.566038               28   \n",
       "3           0.000000          0.000000          0.000000               11   \n",
       "4           0.000000          0.000000          0.000000                1   \n",
       "\n",
       "   num_followees_s  num_followees_d  ...     svd_v_d_1     svd_v_d_2  \\\n",
       "0               15                8  ... -1.355368e-12  4.675244e-13   \n",
       "1               61              142  ...  1.244974e-12 -1.636948e-10   \n",
       "2               41               22  ... -5.168530e-18 -7.196353e-18   \n",
       "3                5                7  ... -9.818087e-10  3.454679e-11   \n",
       "4               11                3  ... -3.453513e-15  1.121296e-15   \n",
       "\n",
       "      svd_v_d_3     svd_v_d_4     svd_v_d_5     svd_v_d_6     svd_dot_u  \\\n",
       "0  1.128586e-06  6.616651e-14  9.771075e-13  4.160011e-14  1.114847e-11   \n",
       "1 -3.112787e-10  6.738902e-02  2.607836e-11  2.372900e-09  3.192812e-03   \n",
       "2 -1.020720e-17  1.512531e-17  7.660428e-18 -8.195645e-19  4.001379e-33   \n",
       "3  5.213566e-08  9.595758e-13  3.047045e-10  1.246586e-13  4.710299e-20   \n",
       "4  3.097683e-09  8.173276e-16  1.122948e-15  5.095796e-17  7.775076e-14   \n",
       "\n",
       "   pre_att_followers  pre_att_followees     svd_dot_v  \n",
       "0                  0                  0  2.238769e-12  \n",
       "1                  0                  0  9.068719e-04  \n",
       "2                  0                  0  5.753505e-34  \n",
       "3                  0                  0  3.159464e-18  \n",
       "4                  0                  0  3.708786e-16  \n",
       "\n",
       "[5 rows x 58 columns]"
      ]
     },
     "execution_count": 5,
     "metadata": {},
     "output_type": "execute_result"
    }
   ],
   "source": [
    "df_final_train.shape\n",
    "df_final_train.head()"
   ]
  },
  {
   "cell_type": "code",
   "execution_count": 6,
   "id": "e2f1c4bd",
   "metadata": {},
   "outputs": [],
   "source": [
    "y_train = df_final_train.indicator_link\n",
    "y_test = df_final_test.indicator_link"
   ]
  },
  {
   "cell_type": "code",
   "execution_count": 7,
   "id": "ffcf8d87",
   "metadata": {},
   "outputs": [],
   "source": [
    "df_final_train.drop(['source_node', 'destination_node','indicator_link'],axis=1,inplace=True)\n",
    "df_final_test.drop(['source_node', 'destination_node','indicator_link'],axis=1,inplace=True)"
   ]
  },
  {
   "cell_type": "code",
   "execution_count": 8,
   "id": "a968cd4b",
   "metadata": {},
   "outputs": [],
   "source": [
    "#XGboost\n",
    "#https://www.analyticsvidhya.com/blog/2016/03/complete-guide-parameter-tuning-xgboost-with-codes-python/\n",
    "#https://towardsdatascience.com/xgboost-fine-tune-and-optimize-your-model-23d996fab663"
   ]
  },
  {
   "cell_type": "code",
   "execution_count": 72,
   "id": "2ff8152e",
   "metadata": {},
   "outputs": [
    {
     "name": "stdout",
     "output_type": "stream",
     "text": [
      "[1 2 3 4 5 6 7 8 9]\n",
      "[100 102 104 106 108 110 112 114 116 118 120 122 124 126 128 130 132 134\n",
      " 136 138 140 142 144 146 148 150 152 154 156 158 160 162 164 166 168 170\n",
      " 172 174 176 178 180 182 184 186 188 190 192 194 196 198]\n"
     ]
    }
   ],
   "source": [
    "import numpy as np\n",
    "max_depth = np.arange(1,10,1)\n",
    "print(max_depth)\n",
    "n_estimators = np.arange(100,200,2)\n",
    "print(n_estimators)\n"
   ]
  },
  {
   "cell_type": "code",
   "execution_count": 19,
   "id": "f4edd135",
   "metadata": {},
   "outputs": [
    {
     "name": "stdout",
     "output_type": "stream",
     "text": [
      "Fitting 5 folds for each of 5 candidates, totalling 25 fits\n",
      "[CV] END ..learning_rate=0.15, max_depth=6, n_estimators=112; total time=  20.2s\n",
      "[CV] END ..learning_rate=0.15, max_depth=6, n_estimators=112; total time=  22.3s\n",
      "[CV] END ..learning_rate=0.15, max_depth=6, n_estimators=112; total time=  21.9s\n",
      "[CV] END ..learning_rate=0.15, max_depth=6, n_estimators=112; total time=  21.8s\n",
      "[CV] END ..learning_rate=0.15, max_depth=6, n_estimators=112; total time=  22.1s\n",
      "[CV] END ..learning_rate=0.05, max_depth=7, n_estimators=136; total time=  28.6s\n",
      "[CV] END ..learning_rate=0.05, max_depth=7, n_estimators=136; total time=  28.4s\n",
      "[CV] END ..learning_rate=0.05, max_depth=7, n_estimators=136; total time=  28.6s\n",
      "[CV] END ..learning_rate=0.05, max_depth=7, n_estimators=136; total time=  28.6s\n",
      "[CV] END ..learning_rate=0.05, max_depth=7, n_estimators=136; total time=  28.3s\n",
      "[CV] END ...learning_rate=0.3, max_depth=6, n_estimators=144; total time=  29.8s\n",
      "[CV] END ...learning_rate=0.3, max_depth=6, n_estimators=144; total time=  29.9s\n",
      "[CV] END ...learning_rate=0.3, max_depth=6, n_estimators=144; total time=  30.1s\n",
      "[CV] END ...learning_rate=0.3, max_depth=6, n_estimators=144; total time=  29.7s\n",
      "[CV] END ...learning_rate=0.3, max_depth=6, n_estimators=144; total time=  30.0s\n",
      "[CV] END ..learning_rate=0.25, max_depth=8, n_estimators=182; total time=  49.6s\n",
      "[CV] END ..learning_rate=0.25, max_depth=8, n_estimators=182; total time=  48.6s\n",
      "[CV] END ..learning_rate=0.25, max_depth=8, n_estimators=182; total time=  49.0s\n",
      "[CV] END ..learning_rate=0.25, max_depth=8, n_estimators=182; total time=  48.8s\n",
      "[CV] END ..learning_rate=0.25, max_depth=8, n_estimators=182; total time=  54.7s\n",
      "[CV] END ..learning_rate=0.05, max_depth=6, n_estimators=110; total time=  21.0s\n",
      "[CV] END ..learning_rate=0.05, max_depth=6, n_estimators=110; total time=  21.0s\n",
      "[CV] END ..learning_rate=0.05, max_depth=6, n_estimators=110; total time=  20.9s\n",
      "[CV] END ..learning_rate=0.05, max_depth=6, n_estimators=110; total time=  22.6s\n",
      "[CV] END ..learning_rate=0.05, max_depth=6, n_estimators=110; total time=  21.2s\n",
      "mean test scores [0.9796829  0.97541802 0.98278245 0.98268544 0.97318196]\n",
      "mean train scores [0.98606406 0.9769686  0.99911034 1.         0.97376184]\n"
     ]
    }
   ],
   "source": [
    "import pandas as pd\n",
    "#import numpy as np\n",
    "import xgboost as xgb\n",
    "from xgboost.sklearn import XGBClassifier\n",
    "from sklearn.model_selection import cross_validate  #Additional scklearn functions\n",
    "from sklearn.model_selection import RandomizedSearchCV   #Perforing grid search\n",
    "\n",
    "params1 =  {\"learning_rate\" : [0.05, 0.1, 0.15, 0.2, 0.25, 0.3],\n",
    "             \"max_depth\": np.arange(1,10,1),\n",
    "            \"n_estimators\": np.arange(100,200,2) }\n",
    "\n",
    "train_scores = []\n",
    "test_scores = []\n",
    "\n",
    "xg1 = XGBClassifier(objective = 'binary:logistic',verbosity = 1, eval_metric = 'auc',scale_pos_weight=1, random_state=1)\n",
    "\n",
    "rf_random1 = RandomizedSearchCV(xg1, param_distributions=params1,verbose = 2,\n",
    "                                   n_iter=5,cv=5,scoring='f1',random_state=25,return_train_score=True)\n",
    "#originally tried cv=10 took longer time to execute. \n",
    "rf_random1.fit(df_final_train,y_train)\n",
    "print('mean test scores',rf_random1.cv_results_['mean_test_score'])\n",
    "print('mean train scores',rf_random1.cv_results_['mean_train_score'])"
   ]
  },
  {
   "cell_type": "code",
   "execution_count": 29,
   "id": "ddd2391a",
   "metadata": {},
   "outputs": [
    {
     "name": "stdout",
     "output_type": "stream",
     "text": [
      "---------------OUTPUT FROM FIRST-------------\n",
      "XGBClassifier(base_score=0.5, booster='gbtree', colsample_bylevel=1,\n",
      "              colsample_bynode=1, colsample_bytree=1, eval_metric='auc',\n",
      "              gamma=0, gpu_id=-1, importance_type='gain',\n",
      "              interaction_constraints='', learning_rate=0.3, max_delta_step=0,\n",
      "              max_depth=6, min_child_weight=1, missing=nan,\n",
      "              monotone_constraints='()', n_estimators=144, n_jobs=8,\n",
      "              num_parallel_tree=1, random_state=1, reg_alpha=0, reg_lambda=1,\n",
      "              scale_pos_weight=1, subsample=1, tree_method='exact',\n",
      "              validate_parameters=1, verbosity=1)\n",
      "The best learning rate determined from params 1 is  {'n_estimators': 144, 'max_depth': 6, 'learning_rate': 0.3}\n",
      "Best Score 0.9827824504483378\n",
      "----------------------------------------------------------------------\n"
     ]
    }
   ],
   "source": [
    "print(\"---------------OUTPUT FROM FIRST-------------\")\n",
    "l_r = rf_random1.best_params_['learning_rate']\n",
    "m_d = rf_random1.best_params_['max_depth']\n",
    "n_e = rf_random1.best_params_['n_estimators']\n",
    "print(rf_random1.best_estimator_)\n",
    "print(\"The best learning rate determined from params 1 is \",rf_random1.best_params_)\n",
    "print(\"Best Score\",rf_random1.best_score_)\n",
    "print(\"-\"*70)"
   ]
  },
  {
   "cell_type": "code",
   "execution_count": null,
   "id": "7f5c6692",
   "metadata": {},
   "outputs": [],
   "source": [
    "#A List of all parameteres that can be fine-tuned. Values researched after looking up online at above links and more online(towards data science on XgBoost)\n",
    "min_child_weight = range(1,6,2)\n",
    "gamma = [i/10.0 for i in range(0,5)]\n",
    "max_depth = range(3,10,2),\n",
    "min_child_weight = range(1,6,2)\n",
    "subsample = [i/100.0 for i in range(75,90,5)],\n",
    "colsample_bytree= [i/100.0 for i in range(75,90,5)]\n",
    "   \n",
    "reg_alpha= [0, 0.001, 0.005, 0.01, 0.05]\n",
    "reg_lamda = [0,0.0001, 0.001, 0.005, 0.01, 0.05]  # SHOWED ERROR WHEN USED."
   ]
  },
  {
   "cell_type": "code",
   "execution_count": 30,
   "id": "9ff26ef9",
   "metadata": {},
   "outputs": [
    {
     "name": "stdout",
     "output_type": "stream",
     "text": [
      "range(1, 6, 2)\n",
      "subsample [0.75, 0.8, 0.85]\n",
      "colsample_bytree [0.75, 0.8, 0.85]\n"
     ]
    }
   ],
   "source": [
    "min_child_weigh = range(1,6,2)\n",
    "print(min_child_weigh)\n",
    "subsample = [i/100.0 for i in range(75,90,5)]\n",
    "print(\"subsample\",subsample)\n",
    "colsample_bytree = [i/100.0 for i in range(75,90,5)] \n",
    "print(\"colsample_bytree\",colsample_bytree)"
   ]
  },
  {
   "cell_type": "code",
   "execution_count": 34,
   "id": "2abde20f",
   "metadata": {},
   "outputs": [
    {
     "name": "stdout",
     "output_type": "stream",
     "text": [
      "Fitting 5 folds for each of 5 candidates, totalling 25 fits\n",
      "[CV] END colsample_bytree=0.75, min_child_weight=1, subsample=0.85; total time=  13.9s\n",
      "[CV] END colsample_bytree=0.75, min_child_weight=1, subsample=0.85; total time=  14.3s\n",
      "[CV] END colsample_bytree=0.75, min_child_weight=1, subsample=0.85; total time=  20.0s\n",
      "[CV] END colsample_bytree=0.75, min_child_weight=1, subsample=0.85; total time=  24.2s\n",
      "[CV] END colsample_bytree=0.75, min_child_weight=1, subsample=0.85; total time=  26.1s\n",
      "[CV] END colsample_bytree=0.8, min_child_weight=1, subsample=0.8; total time=  25.8s\n",
      "[CV] END colsample_bytree=0.8, min_child_weight=1, subsample=0.8; total time=  24.4s\n",
      "[CV] END colsample_bytree=0.8, min_child_weight=1, subsample=0.8; total time=  24.0s\n",
      "[CV] END colsample_bytree=0.8, min_child_weight=1, subsample=0.8; total time=  24.1s\n",
      "[CV] END colsample_bytree=0.8, min_child_weight=1, subsample=0.8; total time=  24.1s\n",
      "[CV] END colsample_bytree=0.85, min_child_weight=3, subsample=0.75; total time=  23.5s\n",
      "[CV] END colsample_bytree=0.85, min_child_weight=3, subsample=0.75; total time=  23.5s\n",
      "[CV] END colsample_bytree=0.85, min_child_weight=3, subsample=0.75; total time=  23.6s\n",
      "[CV] END colsample_bytree=0.85, min_child_weight=3, subsample=0.75; total time=  23.6s\n",
      "[CV] END colsample_bytree=0.85, min_child_weight=3, subsample=0.75; total time=  23.6s\n",
      "[CV] END colsample_bytree=0.8, min_child_weight=1, subsample=0.85; total time=  24.9s\n",
      "[CV] END colsample_bytree=0.8, min_child_weight=1, subsample=0.85; total time=  24.8s\n",
      "[CV] END colsample_bytree=0.8, min_child_weight=1, subsample=0.85; total time=  24.6s\n",
      "[CV] END colsample_bytree=0.8, min_child_weight=1, subsample=0.85; total time=  25.7s\n",
      "[CV] END colsample_bytree=0.8, min_child_weight=1, subsample=0.85; total time=  27.7s\n",
      "[CV] END colsample_bytree=0.8, min_child_weight=3, subsample=0.85; total time=  25.2s\n",
      "[CV] END colsample_bytree=0.8, min_child_weight=3, subsample=0.85; total time=  23.4s\n",
      "[CV] END colsample_bytree=0.8, min_child_weight=3, subsample=0.85; total time=  25.5s\n",
      "[CV] END colsample_bytree=0.8, min_child_weight=3, subsample=0.85; total time=  27.3s\n",
      "[CV] END colsample_bytree=0.8, min_child_weight=3, subsample=0.85; total time=  29.3s\n",
      "mean test scores [0.9821819  0.98286298 0.98237528 0.9818911  0.98246595]\n",
      "mean train scores [0.99941536 0.99939287 0.99874292 0.99935784 0.99863538]\n"
     ]
    }
   ],
   "source": [
    "\n",
    "params2 =  {\"min_child_weight\":range(1,6,2),\n",
    "             \"subsample\":[i/100.0 for i in range(75,90,5)],\n",
    "            \"colsample_bytree\":[i/100.0 for i in range(75,90,5)] }\n",
    "\n",
    "\n",
    "xg2 = XGBClassifier(objective = 'binary:logistic',n_estimators= n_e, max_depth = m_d, learning_rate = l_r ,\n",
    "                    verbosity = 1, eval_metric = 'auc',scale_pos_weight=1, random_state=1)\n",
    "\n",
    "rf_random2 = RandomizedSearchCV(xg2, param_distributions=params2,verbose = 2,\n",
    "                                   n_iter=5,cv=5,scoring='f1',random_state=25,return_train_score=True)\n",
    "#originally tried cv=10 took longer time to execute. \n",
    "rf_random2.fit(df_final_train,y_train)\n",
    "print('mean test scores',rf_random2.cv_results_['mean_test_score'])\n",
    "print('mean train scores',rf_random2.cv_results_['mean_train_score'])"
   ]
  },
  {
   "cell_type": "code",
   "execution_count": 36,
   "id": "7be28a9a",
   "metadata": {},
   "outputs": [
    {
     "name": "stdout",
     "output_type": "stream",
     "text": [
      "---------------OUTPUT FROM SECOND-------------\n",
      "XGBClassifier(base_score=0.5, booster='gbtree', colsample_bylevel=1,\n",
      "              colsample_bynode=1, colsample_bytree=0.8, eval_metric='auc',\n",
      "              gamma=0, gpu_id=-1, importance_type='gain',\n",
      "              interaction_constraints='', learning_rate=0.3, max_delta_step=0,\n",
      "              max_depth=6, min_child_weight=1, missing=nan,\n",
      "              monotone_constraints='()', n_estimators=144, n_jobs=8,\n",
      "              num_parallel_tree=1, random_state=1, reg_alpha=0, reg_lambda=1,\n",
      "              scale_pos_weight=1, subsample=0.8, tree_method='exact',\n",
      "              validate_parameters=1, verbosity=1)\n",
      "The best learning rate determined from params 2 is  {'subsample': 0.8, 'min_child_weight': 1, 'colsample_bytree': 0.8}\n",
      "Best Score 0.9828629785952081\n",
      "----------------------------------------------------------------------\n"
     ]
    }
   ],
   "source": [
    "print(\"---------------OUTPUT FROM SECOND-------------\")\n",
    "m_c_w = rf_random2.best_params_['min_child_weight']\n",
    "s_s = rf_random2.best_params_['subsample']\n",
    "c_b = rf_random2.best_params_['colsample_bytree']\n",
    "print(rf_random2.best_estimator_)\n",
    "print(\"The best learning rate determined from params 2 is \",rf_random2.best_params_)\n",
    "print(\"Best Score\",rf_random2.best_score_)\n",
    "print(\"-\"*70)"
   ]
  },
  {
   "cell_type": "code",
   "execution_count": 41,
   "id": "c4f49f48",
   "metadata": {},
   "outputs": [
    {
     "name": "stdout",
     "output_type": "stream",
     "text": [
      "Fitting 5 folds for each of 5 candidates, totalling 25 fits\n",
      "[CV] END .....................................reg_alpha=0.05; total time=  22.8s\n",
      "[CV] END .....................................reg_alpha=0.05; total time=  24.7s\n",
      "[CV] END .....................................reg_alpha=0.05; total time=  23.9s\n",
      "[CV] END .....................................reg_alpha=0.05; total time=  24.0s\n",
      "[CV] END .....................................reg_alpha=0.05; total time=  23.9s\n",
      "[CV] END ........................................reg_alpha=0; total time=  23.7s\n",
      "[CV] END ........................................reg_alpha=0; total time=  23.9s\n",
      "[CV] END ........................................reg_alpha=0; total time=  23.8s\n",
      "[CV] END ........................................reg_alpha=0; total time=  24.1s\n",
      "[CV] END ........................................reg_alpha=0; total time=  23.8s\n",
      "[CV] END ...................................reg_alpha=0.0001; total time=  23.9s\n",
      "[CV] END ...................................reg_alpha=0.0001; total time=  27.0s\n",
      "[CV] END ...................................reg_alpha=0.0001; total time=  29.3s\n",
      "[CV] END ...................................reg_alpha=0.0001; total time=  26.5s\n",
      "[CV] END ...................................reg_alpha=0.0001; total time=  23.9s\n",
      "[CV] END ....................................reg_alpha=0.005; total time=  25.7s\n",
      "[CV] END ....................................reg_alpha=0.005; total time=  28.5s\n",
      "[CV] END ....................................reg_alpha=0.005; total time=  28.3s\n",
      "[CV] END ....................................reg_alpha=0.005; total time=  28.3s\n",
      "[CV] END ....................................reg_alpha=0.005; total time=  27.3s\n",
      "[CV] END ....................................reg_alpha=0.001; total time=  24.8s\n",
      "[CV] END ....................................reg_alpha=0.001; total time=  29.6s\n",
      "[CV] END ....................................reg_alpha=0.001; total time=  28.3s\n",
      "[CV] END ....................................reg_alpha=0.001; total time=  28.4s\n",
      "[CV] END ....................................reg_alpha=0.001; total time=  28.2s\n",
      "mean test scores [0.98191376 0.98286298 0.98275391 0.98265843 0.98256174]\n",
      "mean train scores [0.99940536 0.99939287 0.99941037 0.99933788 0.99944537]\n"
     ]
    }
   ],
   "source": [
    "params3 =  {\"reg_alpha\": [0, 0.0001, 0.001, 0.005, 0.01, 0.05] }\n",
    "#Tried reg_lambda but showed error\n",
    "\n",
    "xg3 = XGBClassifier(objective = 'binary:logistic',n_estimators= n_e, max_depth = m_d, learning_rate = l_r ,\n",
    "                    subsample =s_s, min_child_weight = m_c_w, colsample_bytree = c_b ,\n",
    "                    verbosity = 1, eval_metric = 'auc',scale_pos_weight=1, random_state=1)\n",
    "\n",
    "rf_random3 = RandomizedSearchCV(xg3, param_distributions=params3,verbose = 2,\n",
    "                                   n_iter=5,cv=5,scoring='f1',random_state=25,return_train_score=True)\n",
    "#originally tried cv=10 took longer time to execute. \n",
    "rf_random3.fit(df_final_train,y_train)\n",
    "print('mean test scores',rf_random3.cv_results_['mean_test_score'])\n",
    "print('mean train scores',rf_random3.cv_results_['mean_train_score'])"
   ]
  },
  {
   "cell_type": "code",
   "execution_count": 45,
   "id": "af6886e0",
   "metadata": {},
   "outputs": [
    {
     "name": "stdout",
     "output_type": "stream",
     "text": [
      "---------------OUTPUT FROM THIRD-------------\n",
      "XGBClassifier(base_score=0.5, booster='gbtree', colsample_bylevel=1,\n",
      "              colsample_bynode=1, colsample_bytree=0.8, eval_metric='auc',\n",
      "              gamma=0, gpu_id=-1, importance_type='gain',\n",
      "              interaction_constraints='', learning_rate=0.3, max_delta_step=0,\n",
      "              max_depth=6, min_child_weight=1, missing=nan,\n",
      "              monotone_constraints='()', n_estimators=144, n_jobs=8,\n",
      "              num_parallel_tree=1, random_state=1, reg_alpha=0, reg_lambda=1,\n",
      "              scale_pos_weight=1, subsample=0.8, tree_method='exact',\n",
      "              validate_parameters=1, verbosity=1)\n",
      "The best learning rate determined from params 2 is  {'reg_alpha': 0}\n",
      "Best Score 0.9828629785952081\n",
      "----------------------------------------------------------------------\n"
     ]
    }
   ],
   "source": [
    "print(\"---------------OUTPUT FROM THIRD-------------\")\n",
    "r_a = rf_random3.best_params_[\"reg_alpha\"]\n",
    "\n",
    "print(rf_random3.best_estimator_)\n",
    "print(\"The best learning rate determined from params 3 is \",rf_random3.best_params_)\n",
    "print(\"Best Score\",rf_random3.best_score_)\n",
    "print(\"-\"*70)"
   ]
  },
  {
   "cell_type": "code",
   "execution_count": 57,
   "id": "74d05d2e",
   "metadata": {},
   "outputs": [],
   "source": [
    "final_clf = XGBClassifier(objective = 'binary:logistic',n_estimators= n_e, max_depth = m_d, learning_rate = l_r ,\n",
    "                    subsample =s_s, min_child_weight = m_c_w, colsample_bytree = c_b , reg_alpha=r_a,                    \n",
    "                    verbosity = 1, eval_metric = 'auc',scale_pos_weight=1, random_state=1)"
   ]
  },
  {
   "cell_type": "code",
   "execution_count": 58,
   "id": "71f83d26",
   "metadata": {},
   "outputs": [],
   "source": [
    "final_clf.fit(df_final_train,y_train)\n",
    "y_train_pred = final_clf.predict(df_final_train)\n",
    "y_test_pred = final_clf.predict(df_final_test)"
   ]
  },
  {
   "cell_type": "code",
   "execution_count": 59,
   "id": "9df7ca08",
   "metadata": {},
   "outputs": [
    {
     "name": "stdout",
     "output_type": "stream",
     "text": [
      "Train f1 score 0.9988602279544091\n",
      "Test f1 score 0.909628287273747\n"
     ]
    }
   ],
   "source": [
    "from sklearn.metrics import f1_score\n",
    "print('Train f1 score',f1_score(y_train,y_train_pred))\n",
    "print('Test f1 score',f1_score(y_test,y_test_pred))"
   ]
  },
  {
   "cell_type": "code",
   "execution_count": 60,
   "id": "928a9309",
   "metadata": {},
   "outputs": [],
   "source": [
    "from sklearn.metrics import confusion_matrix\n",
    "def plot_confusion_matrix(test_y, predict_y):\n",
    "    C = confusion_matrix(test_y, predict_y)\n",
    "    \n",
    "    A =(((C.T)/(C.sum(axis=1))).T)\n",
    "    \n",
    "    B =(C/C.sum(axis=0))\n",
    "    plt.figure(figsize=(20,4))\n",
    "    \n",
    "    labels = [0,1]\n",
    "    # representing A in heatmap format\n",
    "    cmap=sns.light_palette(\"blue\")\n",
    "    plt.subplot(1, 3, 1)\n",
    "    sns.heatmap(C, annot=True, cmap=cmap, fmt=\".3f\", xticklabels=labels, yticklabels=labels)\n",
    "    plt.xlabel('Predicted Class')\n",
    "    plt.ylabel('Original Class')\n",
    "    plt.title(\"Confusion matrix\")\n",
    "    \n",
    "    plt.subplot(1, 3, 2)\n",
    "    sns.heatmap(B, annot=True, cmap=cmap, fmt=\".3f\", xticklabels=labels, yticklabels=labels)\n",
    "    plt.xlabel('Predicted Class')\n",
    "    plt.ylabel('Original Class')\n",
    "    plt.title(\"Precision matrix\")\n",
    "    \n",
    "    plt.subplot(1, 3, 3)\n",
    "    # representing B in heatmap format\n",
    "    sns.heatmap(A, annot=True, cmap=cmap, fmt=\".3f\", xticklabels=labels, yticklabels=labels)\n",
    "    plt.xlabel('Predicted Class')\n",
    "    plt.ylabel('Original Class')\n",
    "    plt.title(\"Recall matrix\")\n",
    "    \n",
    "    plt.show()"
   ]
  },
  {
   "cell_type": "code",
   "execution_count": 61,
   "id": "999cb42f",
   "metadata": {},
   "outputs": [
    {
     "name": "stdout",
     "output_type": "stream",
     "text": [
      "Train confusion_matrix\n"
     ]
    },
    {
     "data": {
      "image/png": "[encoded data removed]",
      "text/plain": [
       "<Figure size 1440x288 with 6 Axes>"
      ]
     },
     "metadata": {
      "needs_background": "light"
     },
     "output_type": "display_data"
    },
    {
     "name": "stdout",
     "output_type": "stream",
     "text": [
      "Test confusion_matrix\n"
     ]
    },
    {
     "data": {
      "image/png": "[encoded data removed]",
      "text/plain": [
       "<Figure size 1440x288 with 6 Axes>"
      ]
     },
     "metadata": {
      "needs_background": "light"
     },
     "output_type": "display_data"
    }
   ],
   "source": [
    "print('Train confusion_matrix')\n",
    "plot_confusion_matrix(y_train,y_train_pred)\n",
    "print('Test confusion_matrix')\n",
    "plot_confusion_matrix(y_test,y_test_pred)"
   ]
  },
  {
   "cell_type": "code",
   "execution_count": 62,
   "id": "fcd2126c",
   "metadata": {},
   "outputs": [
    {
     "data": {
      "image/png": "[encoded data removed]",
      "text/plain": [
       "<Figure size 432x288 with 1 Axes>"
      ]
     },
     "metadata": {
      "needs_background": "light"
     },
     "output_type": "display_data"
    }
   ],
   "source": [
    "from sklearn.metrics import roc_curve, auc\n",
    "fpr,tpr,ths = roc_curve(y_test,y_test_pred)\n",
    "auc_sc = auc(fpr, tpr)\n",
    "plt.plot(fpr, tpr, color='navy',label='ROC curve (area = %0.2f)' % auc_sc)\n",
    "plt.xlabel('False Positive Rate')\n",
    "plt.ylabel('True Positive Rate')\n",
    "plt.title('Receiver operating characteristic with test data')\n",
    "plt.legend()\n",
    "plt.show()"
   ]
  },
  {
   "cell_type": "code",
   "execution_count": 64,
   "id": "4cd5b9f0",
   "metadata": {},
   "outputs": [
    {
     "data": {
      "image/png": "[encoded data removed]",
      "text/plain": [
       "<Figure size 720x864 with 1 Axes>"
      ]
     },
     "metadata": {
      "needs_background": "light"
     },
     "output_type": "display_data"
    }
   ],
   "source": [
    "features = df_final_train.columns\n",
    "importances = final_clf.feature_importances_\n",
    "indices = (np.argsort(importances))[-25:]\n",
    "plt.figure(figsize=(10,12))\n",
    "plt.title('Feature Importances')\n",
    "plt.barh(range(len(indices)), importances[indices], color='r', align='center')\n",
    "plt.yticks(range(len(indices)), [features[i] for i in indices])\n",
    "plt.xlabel('Relative Importance')\n",
    "plt.show()"
   ]
  },
  {
   "cell_type": "code",
   "execution_count": 69,
   "id": "6f12dc88",
   "metadata": {},
   "outputs": [
    {
     "name": "stdout",
     "output_type": "stream",
     "text": [
      "Collecting prettytable\n",
      "  Downloading prettytable-2.5.0-py3-none-any.whl (24 kB)\n",
      "Requirement already satisfied: wcwidth in c:\\users\\karan\\anaconda3\\lib\\site-packages (from prettytable) (0.2.5)\n",
      "Installing collected packages: prettytable\n",
      "Successfully installed prettytable-2.5.0\n",
      "Note: you may need to restart the kernel to use updated packages.\n"
     ]
    }
   ],
   "source": [
    " pip install -U prettytable\n"
   ]
  },
  {
   "cell_type": "code",
   "execution_count": 71,
   "id": "fb7ce2e4",
   "metadata": {},
   "outputs": [
    {
     "name": "stdout",
     "output_type": "stream",
     "text": [
      "+--------------------------------+----------------+---------------+\n",
      "|             MODEL              | train f1-score | test f1-score |\n",
      "+--------------------------------+----------------+---------------+\n",
      "| Random Forest(previously done) |      0.96      |      0.92     |\n",
      "|            Xgboost             |      0.99      |      0.91     |\n",
      "+--------------------------------+----------------+---------------+\n"
     ]
    }
   ],
   "source": [
    "from prettytable import PrettyTable\n",
    "x = PrettyTable()\n",
    "\n",
    "p = PrettyTable()\n",
    "p.field_names = [\"MODEL\",\"train f1-score\",\"test f1-score\"]\n",
    "p.add_row([\"Random Forest(previously done)\",0.96,0.92])\n",
    "p.add_row([\"Xgboost\",0.99,0.91])\n",
    "\n",
    "print(p)"
   ]
  },
  {
   "cell_type": "code",
   "execution_count": null,
   "id": "cb504283",
   "metadata": {},
   "outputs": [],
   "source": []
  }
 ],
 "metadata": {
  "kernelspec": {
   "display_name": "Python 3",
   "language": "python",
   "name": "python3"
  },
  "language_info": {
   "codemirror_mode": {
    "name": "ipython",
    "version": 3
   },
   "file_extension": ".py",
   "mimetype": "text/x-python",
   "name": "python",
   "nbconvert_exporter": "python",
   "pygments_lexer": "ipython3",
   "version": "3.8.8"
  }
 },
 "nbformat": 4,
 "nbformat_minor": 5
}
